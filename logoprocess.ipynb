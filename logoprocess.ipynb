{
 "cells": [
  {
   "cell_type": "code",
   "execution_count": 7,
   "metadata": {},
   "outputs": [
    {
     "name": "stdout",
     "output_type": "stream",
     "text": [
      "Libraries imported (using svglib + reportlab for SVG).\n"
     ]
    }
   ],
   "source": [
    "# Cell 1: Imports\n",
    "import os\n",
    "import io\n",
    "from pathlib import Path\n",
    "from PIL import Image, ImageOps\n",
    "# --- Use svglib and reportlab instead of cairosvg ---\n",
    "from svglib.svglib import svg2rlg\n",
    "from reportlab.graphics import renderPM\n",
    "# --- End of svglib/reportlab imports ---\n",
    "import warnings\n",
    "\n",
    "# Optional: Suppress warnings if needed\n",
    "# warnings.filterwarnings(\"ignore\", category=UserWarning)\n",
    "\n",
    "print(\"Libraries imported (using svglib + reportlab for SVG).\")"
   ]
  },
  {
   "cell_type": "code",
   "execution_count": 8,
   "metadata": {},
   "outputs": [
    {
     "name": "stdout",
     "output_type": "stream",
     "text": [
      "Input directory: /Users/omaxim/Documents/GitHub/2ET/MapaPrilezitosti/MapaPrilezitosti/partners\n",
      "Output directory: /Users/omaxim/Documents/GitHub/2ET/MapaPrilezitosti/processed_logos_ipynb_svglib\n",
      "Canvas Size: 300x150px\n"
     ]
    }
   ],
   "source": [
    "# Cell 2: Configuration and Paths (No changes needed here)\n",
    "INPUT_DIR = Path(\"MapaPrilezitosti/partners\") # <-- Your specific input path\n",
    "OUTPUT_DIR = Path(\"processed_logos_ipynb_svglib\") # <-- New output dir name to avoid conflicts\n",
    "\n",
    "CANVAS_WIDTH = 300  # Desired width of the output PNG canvas\n",
    "CANVAS_HEIGHT = 150 # Desired height of the output PNG canvas\n",
    "# SVG_DPI is not directly used by svglib in the same way as cairosvg\n",
    "OUTPUT_FORMAT = \"PNG\"\n",
    "BACKGROUND_COLOR = (255, 255, 255, 0) # Transparent RGBA\n",
    "\n",
    "# Create output directory if it doesn't exist\n",
    "OUTPUT_DIR.mkdir(parents=True, exist_ok=True)\n",
    "\n",
    "print(f\"Input directory: {INPUT_DIR.resolve()}\")\n",
    "print(f\"Output directory: {OUTPUT_DIR.resolve()}\")\n",
    "print(f\"Canvas Size: {CANVAS_WIDTH}x{CANVAS_HEIGHT}px\")"
   ]
  },
  {
   "cell_type": "code",
   "execution_count": 9,
   "metadata": {},
   "outputs": [
    {
     "name": "stdout",
     "output_type": "stream",
     "text": [
      "Preprocessing function (svglib version) defined.\n"
     ]
    }
   ],
   "source": [
    "# Cell 3: Preprocessing Function (Modified for svglib)\n",
    "def preprocess_logo_ipynb_svglib(input_path: Path, output_path: Path, canvas_width: int, canvas_height: int):\n",
    "    \"\"\"\n",
    "    Reads, resizes, centers, and saves a logo onto a transparent canvas.\n",
    "    Handles PNG directly and SVG using svglib + reportlab. (Notebook version)\n",
    "    \"\"\"\n",
    "    print(f\"Processing: {input_path.name} ... \", end=\"\")\n",
    "    try:\n",
    "        logo_img = None\n",
    "        if input_path.suffix.lower() == \".svg\":\n",
    "            # --- Convert SVG using svglib + reportlab ---\n",
    "            drawing = svg2rlg(str(input_path))\n",
    "            if drawing is None:\n",
    "                 raise ValueError(\"svglib failed to read SVG.\")\n",
    "            # Render the ReportLab drawing to a Pillow Image object\n",
    "            logo_img = renderPM.drawToPIL(drawing, bg=0xFFFFFF, configOverrides={'transparent': None}) # Use white background for rendering then make transparent if needed later? Or let PIL handle transparency. Check drawtoPIL options.\n",
    "            # Let's try rendering directly, assuming transparency is handled.\n",
    "            logo_img = renderPM.drawToPIL(drawing)\n",
    "\n",
    "            # svglib/reportlab might not preserve transparency as easily as cairosvg\n",
    "            # If the background isn't transparent, add post-processing if needed\n",
    "            # For now, assume drawToPIL provides an RGBA image if the SVG had transparency\n",
    "\n",
    "            if logo_img is None:\n",
    "                 raise ValueError(\"renderPM failed to create PIL Image.\")\n",
    "            # --- End of svglib conversion ---\n",
    "\n",
    "        elif input_path.suffix.lower() == \".png\":\n",
    "            logo_img = Image.open(input_path)\n",
    "        else:\n",
    "            print(f\"Skipped (unsupported type)\")\n",
    "            return None # Indicate skipped\n",
    "\n",
    "        # Ensure image is RGBA for transparency handling *after* loading/rendering\n",
    "        logo_img = logo_img.convert(\"RGBA\")\n",
    "\n",
    "        # --- Rest of the process is the same ---\n",
    "        resized_logo = logo_img.copy()\n",
    "        resized_logo.thumbnail((canvas_width, canvas_height), Image.Resampling.LANCZOS)\n",
    "        logo_width, logo_height = resized_logo.size\n",
    "\n",
    "        canvas = Image.new('RGBA', (canvas_width, canvas_height), BACKGROUND_COLOR)\n",
    "        paste_x = (canvas_width - logo_width) // 2\n",
    "        paste_y = (canvas_height - logo_height) // 2\n",
    "\n",
    "        # Paste using the alpha channel of the resized logo as the mask\n",
    "        canvas.paste(resized_logo, (paste_x, paste_y), resized_logo)\n",
    "\n",
    "        canvas.save(output_path, format=OUTPUT_FORMAT, optimize=True)\n",
    "        print(f\"Saved: {output_path.name}\")\n",
    "        return True # Indicate success\n",
    "\n",
    "    except FileNotFoundError:\n",
    "        print(f\"Error: Input file not found!\")\n",
    "        return False # Indicate error\n",
    "    except Exception as e:\n",
    "        print(f\"Error processing {input_path.name}: {e}\")\n",
    "        # Consider printing traceback for debugging complex errors\n",
    "        # import traceback\n",
    "        # traceback.print_exc()\n",
    "        return False # Indicate error\n",
    "\n",
    "print(\"Preprocessing function (svglib version) defined.\")"
   ]
  },
  {
   "cell_type": "code",
   "execution_count": null,
   "metadata": {},
   "outputs": [
    {
     "name": "stdout",
     "output_type": "stream",
     "text": [
      "--------------------\n",
      "Starting preprocessing (using svglib)...\n"
     ]
    },
    {
     "ename": "AttributeError",
     "evalue": "'str' object has no attribute 'is_dir'",
     "output_type": "error",
     "traceback": [
      "\u001b[31m---------------------------------------------------------------------------\u001b[39m",
      "\u001b[31mAttributeError\u001b[39m                            Traceback (most recent call last)",
      "\u001b[36mCell\u001b[39m\u001b[36m \u001b[39m\u001b[32mIn[11]\u001b[39m\u001b[32m, line 9\u001b[39m\n\u001b[32m      7\u001b[39m skipped_count = \u001b[32m0\u001b[39m\n\u001b[32m      8\u001b[39m INPUT_DIR = \u001b[33m'\u001b[39m\u001b[33mUsers/omaxim/Documents/GitHub/2ET/MapaPrilezitosti/MapaPrilezitosti/partners\u001b[39m\u001b[33m'\u001b[39m\n\u001b[32m----> \u001b[39m\u001b[32m9\u001b[39m \u001b[38;5;28;01mif\u001b[39;00m \u001b[38;5;129;01mnot\u001b[39;00m \u001b[43mINPUT_DIR\u001b[49m\u001b[43m.\u001b[49m\u001b[43mis_dir\u001b[49m():\n\u001b[32m     10\u001b[39m     \u001b[38;5;28mprint\u001b[39m(\u001b[33mf\u001b[39m\u001b[33m\"\u001b[39m\u001b[38;5;130;01m\\n\u001b[39;00m\u001b[33mERROR: Input directory \u001b[39m\u001b[33m'\u001b[39m\u001b[38;5;132;01m{\u001b[39;00mINPUT_DIR\u001b[38;5;132;01m}\u001b[39;00m\u001b[33m'\u001b[39m\u001b[33m does not exist! Please check the path.\u001b[39m\u001b[33m\"\u001b[39m)\n\u001b[32m     11\u001b[39m \u001b[38;5;28;01melse\u001b[39;00m:\n\u001b[32m     12\u001b[39m     \u001b[38;5;66;03m# Use glob to find matching files directly\u001b[39;00m\n",
      "\u001b[31mAttributeError\u001b[39m: 'str' object has no attribute 'is_dir'"
     ]
    }
   ],
   "source": [
    "# Cell 4: Execution Loop (Modified to call the new function)\n",
    "print(\"-\" * 20)\n",
    "print(\"Starting preprocessing (using svglib)...\")\n",
    "\n",
    "processed_count = 0\n",
    "error_count = 0\n",
    "skipped_count = 0\n",
    "\n",
    "\n",
    "INPUT_DIR = 'Users/omaxim/Documents/GitHub/2ET/MapaPrilezitosti/MapaPrilezitosti/partners'\n",
    "# Use glob to find matching files directly\n",
    "logo_files = list(INPUT_DIR.glob('*.png')) + list(INPUT_DIR.glob('*.svg'))\n",
    "if not logo_files:\n",
    "    print(f\"\\nNo .png or .svg files found in '{INPUT_DIR}'.\")\n",
    "else:\n",
    "    print(f\"Found {len(logo_files)} logos to process.\")\n",
    "    for item_path in logo_files:\n",
    "        # Construct output path within the specific output directory\n",
    "        output_file = OUTPUT_DIR / item_path.with_suffix(f\".{OUTPUT_FORMAT.lower()}\").name\n",
    "        # Call the svglib version of the function\n",
    "        result = preprocess_logo_ipynb_svglib(item_path, output_file, CANVAS_WIDTH, CANVAS_HEIGHT) # Removed svg_dpi argument\n",
    "        if result is True:\n",
    "            processed_count += 1\n",
    "        elif result is False:\n",
    "            error_count += 1\n",
    "        else: # result is None\n",
    "            skipped_count += 1\n",
    "print(\"-\" * 20)\n",
    "print(\"Preprocessing complete.\")\n",
    "print(f\"Successfully processed: {processed_count}\")\n",
    "print(f\"Errors encountered: {error_count}\")\n",
    "print(f\"Skipped (unsupported type): {skipped_count}\")\n",
    "print(f\"Processed files are in: {OUTPUT_DIR.resolve()}\")"
   ]
  }
 ],
 "metadata": {
  "kernelspec": {
   "display_name": "Python 3",
   "language": "python",
   "name": "python3"
  },
  "language_info": {
   "codemirror_mode": {
    "name": "ipython",
    "version": 3
   },
   "file_extension": ".py",
   "mimetype": "text/x-python",
   "name": "python",
   "nbconvert_exporter": "python",
   "pygments_lexer": "ipython3",
   "version": "3.11.11"
  }
 },
 "nbformat": 4,
 "nbformat_minor": 2
}
