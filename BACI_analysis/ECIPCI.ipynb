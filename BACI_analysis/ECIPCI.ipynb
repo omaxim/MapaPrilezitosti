{
 "cells": [
  {
   "cell_type": "code",
   "execution_count": 3,
   "metadata": {},
   "outputs": [],
   "source": [
    "from ecomplexity import ecomplexity\n",
    "from ecomplexity import proximity\n",
    "import pandas as pd\n",
    "EU_iso3  = [\"AUT\",\"BEL\",\"BGR\",\"HRV\",\"CYP\",\"CZE\",\"DNK\",\"EST\",\"FIN\",\"FRA\",\"DEU\",\"GRC\",\"HUN\",\"IRL\",\"ITA\",\"LVA\",\"LTU\",\"LUX\",\"MLT\",\"NLD\",\"POL\",\"PRT\",\"ROU\",\"SVK\",\"SVN\",\"ESP\",\"SWE\"]"
   ]
  },
  {
   "cell_type": "markdown",
   "metadata": {},
   "source": [
    "# Load BACI data, aggregate exports and fill in ISO3 country codes"
   ]
  },
  {
   "cell_type": "code",
   "execution_count": 4,
   "metadata": {},
   "outputs": [],
   "source": [
    "BACI_2023 = pd.read_csv('BACI_HS22_Y2023_V202501.csv')\n",
    "BACI_2023_agg = BACI_2023.groupby(['t', 'i', 'k'], as_index=False).agg({'v': 'sum', 'q': 'sum'})\n",
    "country_codes = pd.read_csv('country_codes_V202501.csv')\n",
    "BACI_2023_agg = BACI_2023_agg.merge(country_codes,left_on='i',right_on='country_code')\n",
    "data = pd.DataFrame({\n",
    "    'time':BACI_2023_agg['t'],\n",
    "    'loc':BACI_2023_agg['country_iso3'],\n",
    "    'prod':BACI_2023_agg['k'],\n",
    "    'val':(BACI_2023_agg['v']*1000) # values in BACI given in thousands of dollars\n",
    "})"
   ]
  },
  {
   "cell_type": "markdown",
   "metadata": {},
   "source": [
    "# Use ecomplexity to get complexity values and proximity matrix"
   ]
  },
  {
   "cell_type": "code",
   "execution_count": 5,
   "metadata": {},
   "outputs": [
    {
     "name": "stdout",
     "output_type": "stream",
     "text": [
      "2023\n"
     ]
    },
    {
     "name": "stderr",
     "output_type": "stream",
     "text": [
      "/opt/anaconda3/envs/python39/lib/python3.9/site-packages/ecomplexity/log_supermodularity.py:138: UserWarning: No valid pairs found for log-supermodularity check. This may indicate that the matrix is too small or the ECI and PCI values are not well-defined.\n",
      "  warnings.warn(\n",
      "/opt/anaconda3/envs/python39/lib/python3.9/site-packages/ecomplexity/ecomplexity.py:252: UserWarning: Year 2023: Log-supermodularity condition is not fully satisfied (0.00% of pairs compared satisfy this condition). The ECI and PCI values may not be a true representation of the complexity. More details at: https://growthlab.hks.harvard.edu/publications/structural-ranking-economic-complexity\n",
      "  warnings.warn(\n"
     ]
    },
    {
     "name": "stdout",
     "output_type": "stream",
     "text": [
      "Percentage of pairs compared that meet log-supermodularity condition: 0.00%\n",
      "2023\n"
     ]
    }
   ],
   "source": [
    "# Calculate complexity\n",
    "trade_cols = {'time':'time', 'loc':'loc', 'prod':'prod', 'val':'val'}\n",
    "cdata = ecomplexity(data, trade_cols)\n",
    "# Calculate proximity matrix\n",
    "prox_df = proximity(data, trade_cols)"
   ]
  },
  {
   "cell_type": "markdown",
   "metadata": {},
   "source": [
    "# Add Czech names"
   ]
  },
  {
   "cell_type": "code",
   "execution_count": null,
   "metadata": {},
   "outputs": [],
   "source": [
    "CzechNames = pd.read_csv('CZ_HS6_codes.csv')\n",
    "EnglishNames = pd.read_csv('product_codes_HS22_V202501.csv')\n",
    "EnglishNames['code'] = pd.to_numeric(EnglishNames['code'], errors=\"coerce\")\n",
    "classed_cdata = cdata.merge(CzechNames[['HS6','POPIS']],left_on='prod',right_on='HS6',how='left').drop('HS6',axis=1)\n",
    "classed_cdata = classed_cdata.merge(EnglishNames,left_on='prod',right_on='code',how='left').drop('code',axis=1)\n",
    "classed_cdata['POPIS'][classed_cdata['POPIS'].isna()] = classed_cdata['description'][classed_cdata['POPIS'].isna()]"
   ]
  },
  {
   "cell_type": "markdown",
   "metadata": {},
   "source": [
    "# Calculate product space values"
   ]
  },
  {
   "cell_type": "code",
   "execution_count": 7,
   "metadata": {},
   "outputs": [],
   "source": [
    "# Function to calculate market concentration\n",
    "def calculate_hhi(group):\n",
    "    # Calculate market share of each country's export value for the product\n",
    "    market_share = group[\"val\"] / group[\"val\"].sum()\n",
    "    # Square the market shares and sum them to calculate HHI\n",
    "    hhi = (market_share ** 2).sum()\n",
    "    return hhi\n",
    "\n",
    "def get_product_space(cdata):\n",
    "    # Get EU only data\n",
    "    EU_data = cdata[cdata['loc'].isin(EU_iso3)]\n",
    "\n",
    "    # Calculate HHI in the world and in the EU\n",
    "    hhi = cdata.groupby(\"prod\").apply(calculate_hhi).reset_index()\n",
    "    euhhi = EU_data.groupby(\"prod\").apply(calculate_hhi).reset_index()\n",
    "    hhi.rename(columns={0:'hhi'}, inplace=True)\n",
    "    euhhi.rename(columns={0:'euhhi'}, inplace=True)\n",
    "\n",
    "    # Calculate World and EU export\n",
    "    WorldExport = cdata[['prod','val']].groupby('prod').agg(sum).reset_index()\n",
    "    EUExport  = EU_data[['prod','val']].groupby('prod').agg(sum).reset_index()\n",
    "    WorldExport.rename(columns={'val':'WorldExport'}, inplace=True)\n",
    "    EUExport.rename(columns={'val':'EUExport'}, inplace=True)\n",
    "\n",
    "    #Calculate top EU exporter\n",
    "    EUTopExporter = EU_data.loc[EU_data.groupby('prod')['val'].idxmax(), ['prod', 'loc']].reset_index(drop=True)\n",
    "    EUTopExporter.rename(columns={'loc':'EUTopExporter'}, inplace=True)\n",
    "\n",
    "    #Merge all and calculate EU market share\n",
    "    ProductSpace = WorldExport.merge(EUExport,left_on='prod',right_on='prod')\n",
    "    ProductSpace = ProductSpace.merge(EUTopExporter,left_on='prod',right_on='prod')\n",
    "    ProductSpace['EUWorldMarketShare'] = ProductSpace['EUExport']/ProductSpace['WorldExport']\n",
    "    ProductSpace = ProductSpace.merge(hhi,left_on='prod',right_on='prod')\n",
    "    ProductSpace = ProductSpace.merge(euhhi,left_on='prod',right_on='prod')\n",
    "    return ProductSpace"
   ]
  },
  {
   "cell_type": "markdown",
   "metadata": {},
   "source": [
    "# Calculate relatedness\n",
    " - Using the OEC formula https://oec.world/en/resources/methods#relatedness"
   ]
  },
  {
   "cell_type": "code",
   "execution_count": 8,
   "metadata": {},
   "outputs": [],
   "source": [
    "def get_relatedness(country_iso3, year, prox_df, cdata):\n",
    "    # Step 1: Filter for the given year\n",
    "    prox_filtered = prox_df[prox_df['time'] == year]\n",
    "    cdata_filtered = cdata[cdata['time'] == year]\n",
    "    \n",
    "    # Step 2: Filter cdata by the country\n",
    "    cdata_filtered = cdata_filtered[cdata_filtered['loc'] == country_iso3]\n",
    "    \n",
    "    # Step 3: Merge proximity data (prod_1 and prod_2) with cdata on 'prod_2' = 'prod'\n",
    "    merged_df = pd.merge(cdata_filtered, prox_filtered, left_on='prod', right_on='prod_2')\n",
    "    \n",
    "    # Step 4: Group by HS6 code (prod_1) and calculate relatedness for each group\n",
    "    def calculate_relatedness(group):\n",
    "        return (group['mcp'] * group['proximity']).sum() / group['proximity'].sum()\n",
    "\n",
    "    # Step 5: Calculate relatedness for each prod_1\n",
    "    relatedness_results = merged_df.groupby('prod_1').apply(calculate_relatedness)\n",
    "    relatedness_df = relatedness_results.reset_index().rename(columns={'prod_1': 'prod', 0: 'relatedness'})\n",
    "    return relatedness_df"
   ]
  },
  {
   "cell_type": "markdown",
   "metadata": {},
   "source": [
    "# Combine all data to give a country overview"
   ]
  },
  {
   "cell_type": "code",
   "execution_count": 9,
   "metadata": {},
   "outputs": [],
   "source": [
    "def get_country_data(country_iso3, year, prox_df, cdata):\n",
    "    # Subset for year and location\n",
    "    output = cdata[cdata['time'] == year][cdata['loc']==country_iso3]\n",
    "    \n",
    "    # Calculate Relatedness and merge\n",
    "    relatedness = get_relatedness(country_iso3, year, prox_df, cdata)\n",
    "    output = output.merge(relatedness,left_on='prod',right_on='prod')\n",
    "\n",
    "    # Merge with ProductSpaceInfo\n",
    "    ProductSpaceInfo = get_product_space(cdata)\n",
    "    output = output.merge(ProductSpaceInfo,left_on='prod',right_on='prod')\n",
    "\n",
    "    # Rename columns\n",
    "    output = output.rename(columns={'val': 'ExportValue'})\n",
    "\n",
    "    # Add World and EU Market Share\n",
    "    output[country_iso3+'_WorldMarketShare'] = output['ExportValue']/output['WorldExport']\n",
    "\n",
    "    # If country is in the EU calculate EU Market Share\n",
    "    if country_iso3 in EU_iso3:\n",
    "        output[country_iso3+'_EUMarketShare'] = output['ExportValue']/output['EUExport']\n",
    "    return output\n"
   ]
  },
  {
   "cell_type": "markdown",
   "metadata": {},
   "source": [
    "# Calculate for a given country"
   ]
  },
  {
   "cell_type": "code",
   "execution_count": null,
   "metadata": {},
   "outputs": [],
   "source": [
    "CZE = get_country_data('CZE',2023,prox_df,classed_cdata)"
   ]
  },
  {
   "cell_type": "code",
   "execution_count": 13,
   "metadata": {},
   "outputs": [],
   "source": [
    "CZE['PCI_Rank'] = CZE['pci'].rank(ascending=True)\n",
    "CZE['PCI_Percentile'] = CZE['pci'].rank(ascending=True, pct=True) * 100\n",
    "\n",
    "CZE['relatedness_Rank'] = CZE['relatedness'].rank(ascending=True)\n",
    "CZE['relatedness_Percentile'] = CZE['relatedness'].rank(ascending=True, pct=True) * 100\n",
    "\n",
    "CZE['export_Rank'] = CZE['ExportValue'].rank(ascending=True)\n",
    "CZE['export_Percentile'] = CZE['ExportValue'].rank(ascending=True, pct=True) * 100"
   ]
  },
  {
   "cell_type": "code",
   "execution_count": 14,
   "metadata": {},
   "outputs": [],
   "source": [
    "CZE.to_csv('CZE_2023.csv')"
   ]
  },
  {
   "cell_type": "markdown",
   "metadata": {},
   "source": [
    "# Get Green Products"
   ]
  },
  {
   "cell_type": "code",
   "execution_count": 335,
   "metadata": {},
   "outputs": [],
   "source": [
    "url = 'https://docs.google.com/spreadsheets/d/1M4_XVEXApUbnklbRwX1dqDVYIDStX4Uk/pub?gid=884468600&single=true&output=csv'\n",
    "taxonomy = pd.read_csv(url)\n",
    "GreenProducts = taxonomy.merge(CZE,how='left',left_on='HS_ID',right_on='prod')\n",
    "# Calculate 2030 export value\n",
    "GreenProducts['CountryExport2030'] = GreenProducts['ExportValue'] * (1 + GreenProducts['CAGR_2022_30_FORECAST']) ** 8\n",
    "GreenProducts['EUExport2030'] = GreenProducts['EUExport'] * (1 + GreenProducts['CAGR_2022_30_FORECAST']) ** 8\n",
    "\n",
    "# Calculate Total Export Value from 2025 to 2030\n",
    "# We calculate for each year and sum up\n",
    "GreenProducts['CountryExport_25_30'] = sum(GreenProducts['ExportValue'] * (1 + GreenProducts['CAGR_2022_30_FORECAST']) ** i for i in range(3, 9))\n",
    "GreenProducts['EUExport_25_30'] = sum(GreenProducts['EUExport'] * (1 + GreenProducts['CAGR_2022_30_FORECAST']) ** i for i in range(3, 9))"
   ]
  },
  {
   "cell_type": "code",
   "execution_count": 338,
   "metadata": {},
   "outputs": [],
   "source": [
    "GreenProducts.rename(columns={'ExportValue': 'CZ Export 2022 CZK',\n",
    "                              'pci': 'Komplexita výrobku 2022',\n",
    "                               'relatedness': 'Příbuznost CZ 2022',\n",
    "                               'WorldExport':'Světový export 2022 CZK',\n",
    "                               'EUExport':'EU Export 2022 CZK',\n",
    "                               'EUWorldMarketShare':'EU Světový Podíl 2022 %',\n",
    "                               'euhhi':'Koncentrace evropského exportu 2022',\n",
    "                               'hhi':'Koncentrace světového trhu 2022',\n",
    "                               'CZE_WorldMarketShare':'CZ Světový Podíl 2022 %',\n",
    "                               'CZE_EUMarketShare':'CZ-EU Podíl 2022 %',\n",
    "                               'rca':'Výhoda CZ 2022',\n",
    "                               'EUTopExporter':'EU Největší Exportér 2022',\n",
    "                               'POPIS':'Název Produktu',\n",
    "                               'CountryExport2030':'CZ 2030 Export CZK',\n",
    "                               'EUExport2030':'EU 2030 Export CZK',\n",
    "                               'CountryExport_25_30':'CZ Celkový Export 25-30 CZK',\n",
    "                               'EUExport_25_30':'EU Celkový Export 25-30 CZK',\n",
    "                               'CAGR_2022_30_FORECAST':'CAGR 2022-2030 Předpověď'\n",
    "                               }).to_csv('GreenComplexity_CZE_2022.csv')"
   ]
  },
  {
   "cell_type": "markdown",
   "metadata": {},
   "source": [
    "# Get Full Product Database"
   ]
  },
  {
   "cell_type": "code",
   "execution_count": 12,
   "metadata": {},
   "outputs": [],
   "source": [
    "products = get_product_space(classed_cdata)\n",
    "products = products.merge(CzechNames[['HS6','POPIS']],left_on='prod',right_on='HS6',how='left').drop('HS6',axis=1)\n",
    "products = products.merge(EnglishNames,left_on='prod',right_on='code',how='left').drop('code',axis=1)\n",
    "products.to_csv('HS22_Products.csv',encoding='utf-8-sig')"
   ]
  },
  {
   "cell_type": "code",
   "execution_count": 7,
   "metadata": {},
   "outputs": [],
   "source": [
    "import pandas as pd\n",
    "products = pd.read_csv('HS22_Products.csv')\n",
    "# Function to insert <br> after 6 words\n",
    "def insert_br(text):\n",
    "    if not isinstance(text, str):  # Check if the entry is not a string\n",
    "        return text  # Return the value as it is (None, float, etc.)\n",
    "    \n",
    "    words = text.split()  # Split text into words\n",
    "    new_text = []\n",
    "    \n",
    "    for i in range(0, len(words), 6):  # Iterate in steps of 6\n",
    "        new_text.append(' '.join(words[i:i+6]))  # Join 6 words\n",
    "        new_text.append('<br>')  # Add <br> tag\n",
    "\n",
    "    return ''.join(new_text).rstrip('<br>')  # Join everything, remove last <br>\n",
    "\n",
    "products['POPIS'] = products['POPIS'].apply(insert_br)\n",
    "products.to_csv('HS22_Products_br.csv',encoding='utf-8-sig')"
   ]
  }
 ],
 "metadata": {
  "kernelspec": {
   "display_name": "Python 3",
   "language": "python",
   "name": "python3"
  },
  "language_info": {
   "codemirror_mode": {
    "name": "ipython",
    "version": 3
   },
   "file_extension": ".py",
   "mimetype": "text/x-python",
   "name": "python",
   "nbconvert_exporter": "python",
   "pygments_lexer": "ipython3",
   "version": "3.9.21"
  }
 },
 "nbformat": 4,
 "nbformat_minor": 2
}
